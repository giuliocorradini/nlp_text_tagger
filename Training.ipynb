{
 "cells": [
  {
   "cell_type": "markdown",
   "metadata": {},
   "source": [
    "# nltk NLP classifier model training\n",
    "Import project dependencies for model training"
   ]
  },
  {
   "cell_type": "code",
   "execution_count": 19,
   "metadata": {},
   "outputs": [],
   "source": [
    "from structures import Text, Tag\n",
    "from training import Trainer"
   ]
  },
  {
   "cell_type": "markdown",
   "metadata": {},
   "source": [
    "Graphing dependencies."
   ]
  },
  {
   "cell_type": "code",
   "execution_count": 20,
   "metadata": {},
   "outputs": [],
   "source": [
    "import seaborn as sb\n",
    "import pandas as pd\n",
    "import matplotlib.pyplot as plt\n",
    "import numpy as np\n",
    "from collections import Counter"
   ]
  },
  {
   "cell_type": "markdown",
   "metadata": {},
   "source": [
    "Select the train corpus and the output folder."
   ]
  },
  {
   "cell_type": "code",
   "execution_count": 21,
   "metadata": {},
   "outputs": [],
   "source": [
    "corpus = \"TextClassification/dataset/newsg/train\"\n",
    "out = \"TextClassification/out\""
   ]
  },
  {
   "cell_type": "code",
   "execution_count": 22,
   "metadata": {},
   "outputs": [],
   "source": [
    "import os\n",
    "init_dir = os.getcwd()\n",
    "os.chdir(corpus)\n",
    "\n",
    "trainer = Trainer('english')\n",
    "tags = os.listdir()"
   ]
  },
  {
   "cell_type": "markdown",
   "metadata": {},
   "source": [
    "Load tags into Trainer class"
   ]
  },
  {
   "cell_type": "code",
   "execution_count": 23,
   "metadata": {},
   "outputs": [],
   "source": [
    "for t in tags:\n",
    "    os.chdir(t)\n",
    "\n",
    "    tag = Tag(t)\n",
    "    trainer.addTag(tag)\n",
    "\n",
    "    for file in os.listdir():\n",
    "        with open(file, 'r', errors='ignore') as fd:\n",
    "            trainer.addText(Text(fd.read(), tag))\n",
    "\n",
    "    os.chdir('..')"
   ]
  },
  {
   "cell_type": "markdown",
   "metadata": {},
   "source": [
    "Start training (this will take a while)"
   ]
  },
  {
   "cell_type": "code",
   "execution_count": 24,
   "metadata": {
    "scrolled": false
   },
   "outputs": [],
   "source": [
    "trainer.train()"
   ]
  },
  {
   "cell_type": "markdown",
   "metadata": {},
   "source": [
    "Returning to root directoy and saving tags features."
   ]
  },
  {
   "cell_type": "code",
   "execution_count": 25,
   "metadata": {},
   "outputs": [],
   "source": [
    "os.chdir(init_dir)\n",
    "os.chdir(out)\n",
    "\n",
    "import pickle\n",
    "for tag in trainer.tags:\n",
    "    with open(tag.name+'.tag', 'bw') as dump_fd:\n",
    "        pickle.dump(tag, dump_fd)"
   ]
  },
  {
   "cell_type": "markdown",
   "metadata": {},
   "source": [
    "Comparing test corpus against trained model, extracting confusion matrix."
   ]
  },
  {
   "cell_type": "code",
   "execution_count": 26,
   "metadata": {},
   "outputs": [],
   "source": [
    "from TextClassification.model import Model\n",
    "tags = trainer.tags\n",
    "model = Model(tags)"
   ]
  },
  {
   "cell_type": "markdown",
   "metadata": {},
   "source": [
    "Select test corpus path and load files."
   ]
  },
  {
   "cell_type": "code",
   "execution_count": 27,
   "metadata": {},
   "outputs": [],
   "source": [
    "corpus = \"TextClassification/dataset/newsg/test\""
   ]
  },
  {
   "cell_type": "code",
   "execution_count": 28,
   "metadata": {},
   "outputs": [],
   "source": [
    "cm = Counter()\n",
    "\n",
    "os.chdir(init_dir)\n",
    "os.chdir(corpus)\n",
    "\n",
    "for tag in tags:\n",
    "    os.chdir(tag.name)\n",
    "    \n",
    "    for file in os.listdir():\n",
    "        with open(file, 'r', errors='ignore') as fd:\n",
    "            text = Text(fd.read())\n",
    "        model.classify(text)\n",
    "        cm[(tag.name, text.tag.name)] += 1\n",
    "    \n",
    "    os.chdir('..')\n",
    "    \n",
    "os.chdir(init_dir)"
   ]
  },
  {
   "cell_type": "markdown",
   "metadata": {},
   "source": [
    "Display heatmap of confusion matrix"
   ]
  },
  {
   "cell_type": "code",
   "execution_count": 29,
   "metadata": {},
   "outputs": [],
   "source": [
    "cm_array = np.array([[cm[(t.name, ti.name)] for ti in tags] for t in tags])\n",
    "\n",
    "df_cm = pd.DataFrame(cm_array, index = [t.name for t in tags],\n",
    "                     columns = [t.name for t in tags])\n",
    "plt.figure(figsize = (15,10))\n",
    "sb.heatmap(df_cm, annot=True)\n",
    "plt.show()"
   ]
  },
  {
   "cell_type": "code",
   "execution_count": null,
   "metadata": {},
   "outputs": [],
   "source": []
  }
 ],
 "metadata": {
  "kernelspec": {
   "display_name": "Python 3",
   "language": "python",
   "name": "python3"
  },
  "language_info": {
   "codemirror_mode": {
    "name": "ipython",
    "version": 3
   },
   "file_extension": ".py",
   "mimetype": "text/x-python",
   "name": "python",
   "nbconvert_exporter": "python",
   "pygments_lexer": "ipython3",
   "version": "3.6.5"
  },
  "pycharm": {
   "stem_cell": {
    "cell_type": "raw",
    "source": [],
    "metadata": {
     "collapsed": false
    }
   }
  }
 },
 "nbformat": 4,
 "nbformat_minor": 2
}